{
 "cells": [
  {
   "cell_type": "markdown",
   "id": "6100699f-1e52-4a21-aaec-8028763dd388",
   "metadata": {},
   "source": [
    "# Streaming the cube from the created S3 bucket\n",
    "With [03_S3Upload.ipynb](./03_S3Upload.ipynb) a s3 bucket can be automatically created and then the cubes created with [02_cubePipeline.ipynb](./02_cubePipeline.ipynb) be uploaded to the bucket.\n",
    "For all bigger cubes created via the slurm pipeline, there is also a pipeline to create the s3 bucket and upload them here: [03_s3_upload.py](../slurm/03_s3_upload.py)."
   ]
  },
  {
   "cell_type": "code",
   "execution_count": 5,
   "id": "60c662ef-80e4-408e-ad70-ce0f585b9320",
   "metadata": {},
   "outputs": [],
   "source": [
    "import os\n",
    "import xarray as xr # to stream the cube\n",
    "import lexcube as lc # to visualize it"
   ]
  },
  {
   "cell_type": "markdown",
   "id": "f24ec8fc-a1a3-4d35-be6f-1a63487d3eab",
   "metadata": {},
   "source": [
    "Request the cube with xarray"
   ]
  },
  {
   "cell_type": "code",
   "execution_count": 3,
   "id": "f2a358ed-6b8e-4af9-88af-9be5a42a6d80",
   "metadata": {},
   "outputs": [],
   "source": [
    "url = \"https://s3.eu-north-1.amazonaws.com/rhone-glacier-das/cryo_cube_20200704.zarr\"\n",
    "cube = xr.open_zarr(url) # one could also specify the chunks for the data loaded into chunks={\"time\": 10, \"lat\": 10, \"lon\":10}\n",
    "cube"
   ]
  },
  {
   "cell_type": "markdown",
   "id": "f240deb1-da5e-40fb-83ab-697ee179c1dc",
   "metadata": {},
   "source": [
    "Create a lexcube instance for the cube and show sliders to interact with it"
   ]
  },
  {
   "cell_type": "code",
   "execution_count": 6,
   "id": "22aafbd2-af16-4d8e-b1af-92a610557a27",
   "metadata": {},
   "outputs": [
    {
     "data": {
      "application/vnd.jupyter.widget-view+json": {
       "model_id": "834d37763df7488c8957eb35ad70a22c",
       "version_major": 2,
       "version_minor": 0
      },
      "text/plain": [
       "Sliders(children=(HBox(children=(IntRangeSlider(value=(0, 0), description='frequency:'),)), HBox(children=(Int…"
      ]
     },
     "execution_count": 6,
     "metadata": {},
     "output_type": "execute_result"
    }
   ],
   "source": [
    "w = lc.Cube3DWidget(cube.fft)\n",
    "w.show_sliders()"
   ]
  },
  {
   "cell_type": "markdown",
   "id": "c147f955-8e3d-4506-8fd7-e46afb76b8e2",
   "metadata": {},
   "source": [
    "Show the lexcube visualization"
   ]
  },
  {
   "cell_type": "code",
   "execution_count": 10,
   "id": "ebab8076-45fd-4bc2-a843-b4d3df5af6ff",
   "metadata": {},
   "outputs": [
    {
     "data": {
      "application/vnd.jupyter.widget-view+json": {
       "model_id": "f429db87467f4227868fdc701333a6f6",
       "version_major": 2,
       "version_minor": 0
      },
      "text/plain": [
       "Cube3DWidget(api_metadata={'/api': {'status': 'ok', 'api_version': 5}, '/api/datasets': [{'id': 'default', 'sh…"
      ]
     },
     "execution_count": 10,
     "metadata": {},
     "output_type": "execute_result"
    }
   ],
   "source": [
    "w"
   ]
  }
 ],
 "metadata": {
  "kernelspec": {
   "display_name": "rhoneCube",
   "language": "python",
   "name": "rhonecube"
  },
  "language_info": {
   "codemirror_mode": {
    "name": "ipython",
    "version": 3
   },
   "file_extension": ".py",
   "mimetype": "text/x-python",
   "name": "python",
   "nbconvert_exporter": "python",
   "pygments_lexer": "ipython3",
   "version": "3.9.19"
  }
 },
 "nbformat": 4,
 "nbformat_minor": 5
}
