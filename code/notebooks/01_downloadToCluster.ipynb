{
 "cells": [
  {
   "cell_type": "code",
   "execution_count": 4,
   "id": "39227122-0a1b-4bef-8802-e2905938c47e",
   "metadata": {},
   "outputs": [],
   "source": [
    "### import libraries\n",
    "import requests\n",
    "import os\n",
    "from tqdm import tqdm\n",
    "import multiprocessing as mp\n",
    "from datetime import datetime, timedelta\n",
    "from dotenv import load_dotenv"
   ]
  },
  {
   "cell_type": "code",
   "execution_count": 15,
   "id": "a511a1ed-40a7-4d7d-bca7-0fb394b3f545",
   "metadata": {
    "tags": []
   },
   "outputs": [
    {
     "name": "stdout",
     "output_type": "stream",
     "text": [
      "Cloudbase: https://cloud.scadsai.uni-leipzig.de/index.php/s/gozxE5r9YdwGL8w/download\n"
     ]
    }
   ],
   "source": [
    "######## set the URL and credentials ########\n",
    "# get the base path of the git repository\n",
    "repo_dir = os.popen('git rev-parse --show-toplevel').read().strip()\n",
    "###load the .env file\n",
    "load_dotenv(dotenv_path=f\"{repo_dir}/.env\")\n",
    "\n",
    "#get the environment vairables\n",
    "base=os.getenv(\"BASE_FOLDER\")\n",
    "\n",
    "# URL for the whole dataset:\n",
    "base_url = os.getenv(\"NEXTCLOUD_BASE\")\n",
    "# set the credentials\n",
    "username = os.getenv(\"NEXTCLOUD_USERNAME\")\n",
    "password = os.getenv(\"NEXTCLOUD_PW\")\n",
    "\n",
    "print(f\"Cloudbase: {base_url}\")\n",
    "\n",
    "######## set the storage path ########\n",
    "# Create the directory if it does not exist\n",
    "storage_path = repo_dir #base"
   ]
  },
  {
   "cell_type": "code",
   "execution_count": 16,
   "id": "7e45c36c-2a0e-4b90-b454-5b73e76c6a1b",
   "metadata": {},
   "outputs": [],
   "source": [
    "############# get the folder names #############\n",
    "# Define the start and end dates\n",
    "start_date = datetime(2020, 7, 4)\n",
    "end_date = datetime(2020, 8, 4)\n",
    "\n",
    "# Initialize vars\n",
    "current_date = start_date\n",
    "folder_names = []\n",
    "\n",
    "# Loop through each day from the start date to the end date\n",
    "while current_date <= end_date:\n",
    "    date_str = current_date.strftime(\"%Y%m%d\")\n",
    "    date_str_2 = date_str+\"_2\"\n",
    "    folder_names.append([date_str, date_str_2])\n",
    "\n",
    "    # Move to the next day\n",
    "    current_date += timedelta(days=1)\n",
    "\n",
    "def flatten(xss):\n",
    "    return [x for xs in xss for x in xs]\n",
    "    \n",
    "folder_names=flatten(folder_names)  "
   ]
  },
  {
   "cell_type": "code",
   "execution_count": 17,
   "id": "ad1ef90f-4d99-4609-a7cc-a6041737654c",
   "metadata": {},
   "outputs": [],
   "source": [
    "############# download the files #############\n",
    "def request_folder(folder):\n",
    "    \n",
    "    #request the folder\n",
    "    url= f\"{base_url}?path=/&files={folder}\"\n",
    "    path = os.path.join(storage_path, f\"{folder}.h5\")\n",
    "    \n",
    "    if not os.path.exists(path):\n",
    "        response = requests.get(url, auth=(username, password), stream=True)\n",
    "    \n",
    "        if response.status_code == 200:\n",
    "            print(\"File downloading...\")\n",
    "            \n",
    "            size = int(response.headers.get(\"Content-Length\", 0))\n",
    "            \n",
    "            progress = tqdm(response.iter_content(1024), f\"Downloading {path}\", total=size, unit=\"B\", unit_scale=True, unit_divisor=1024)\n",
    "            \n",
    "            with open(path, 'wb') as file:\n",
    "                for data in progress.iterable:\n",
    "                    file.write(data)\n",
    "                    progress.update(len(data))      \n",
    "                    \n",
    "            print(\"File saved successfully at\", path)  \n",
    "        else:\n",
    "            print(f\"File {path} not found. Status code:\", response.status_code)\n",
    "    else:\n",
    "        print(f\"File {path} already exists.\")"
   ]
  },
  {
   "cell_type": "code",
   "execution_count": null,
   "id": "bde87427-57b4-4e83-aee4-25824de1e922",
   "metadata": {},
   "outputs": [],
   "source": [
    "##### multiprocessing #####\n",
    "folder_names_sub = folder_names[:1]\n",
    "pool=mp.Pool(mp.cpu_count()-4)\n",
    "pool.map(request_folder, folder_names_sub)\n",
    "pool.close()\n",
    "pool.join()"
   ]
  },
  {
   "cell_type": "code",
   "execution_count": 19,
   "id": "0c816537-49ff-4c02-b7f7-ea91680be289",
   "metadata": {},
   "outputs": [
    {
     "name": "stdout",
     "output_type": "stream",
     "text": [
      "File /home/sc.uni-leipzig.de/ju554xqou/big-data-praktikum/20200704.h5 already exists.\n"
     ]
    }
   ],
   "source": [
    "request_folder(folder_names[:1][0])"
   ]
  },
  {
   "cell_type": "code",
   "execution_count": null,
   "id": "98281e11-6c22-43c0-b8d0-a7a7e2562fd0",
   "metadata": {},
   "outputs": [],
   "source": [
    "##### remove all files #####\n",
    "# for folder in folder_names:\n",
    "#     path = os.path.join(storage_path, f\"{folder}.h5\")\n",
    "#     if os.path.exists(path):\n",
    "#         os.remove(path)\n",
    "#         print(f\"File {path} removed.\")\n",
    "#     else:\n",
    "#         print(f\"File {path} does not exist.\")"
   ]
  }
 ],
 "metadata": {
  "kernelspec": {
   "display_name": "rhoneCube",
   "language": "python",
   "name": "rhonecube"
  },
  "language_info": {
   "codemirror_mode": {
    "name": "ipython",
    "version": 3
   },
   "file_extension": ".py",
   "mimetype": "text/x-python",
   "name": "python",
   "nbconvert_exporter": "python",
   "pygments_lexer": "ipython3",
   "version": "3.9.19"
  }
 },
 "nbformat": 4,
 "nbformat_minor": 5
}
