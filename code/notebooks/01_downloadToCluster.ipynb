{
 "cells": [
  {
   "cell_type": "markdown",
   "id": "012440b5-10e0-4c98-8bed-c212d322e697",
   "metadata": {},
   "source": [
    "# Donwload the files to the cluster\n",
    "---\n",
    "\n",
    "In [slurm/01_download_rhone.py](../slurm/01_download_rhone.py) there is a pipeline to download all files and folders to the cluster.\n",
    "Without access to the nextcloud client it is not possible to download single files. So here we showcase how to get one folder and unpack it.\n",
    "\n",
    "If you struggle setting it up, please refer to the instructions in the [condaenv folder's](../condaenv/) README.md."
   ]
  },
  {
   "cell_type": "code",
   "execution_count": 1,
   "id": "d8a70f82-b87b-4111-9059-7e9867293fcc",
   "metadata": {},
   "outputs": [],
   "source": [
    "### import libraries\n",
    "import requests\n",
    "import os\n",
    "from tqdm import tqdm\n",
    "import multiprocessing as mp\n",
    "from datetime import datetime, timedelta\n",
    "from dotenv import load_dotenv\n",
    "\n",
    "# get the base path of the git repository\n",
    "repo_dir = os.popen('git rev-parse --show-toplevel').read().strip()\n",
    "###load the .env file\n",
    "load_dotenv(dotenv_path=f\"{repo_dir}/.env\")\n",
    "\n",
    "#get the environment vairables\n",
    "base=os.getenv(\"BASE_FOLDER\")"
   ]
  },
  {
   "cell_type": "markdown",
   "id": "d0cdec18-bda4-484e-b041-d7ea5b9cc00f",
   "metadata": {},
   "source": [
    "Set the URL and credentials"
   ]
  },
  {
   "cell_type": "code",
   "execution_count": 2,
   "id": "a511a1ed-40a7-4d7d-bca7-0fb394b3f545",
   "metadata": {
    "tags": []
   },
   "outputs": [
    {
     "name": "stdout",
     "output_type": "stream",
     "text": [
      "Cloudbase: https://cloud.scadsai.uni-leipzig.de/index.php/s/gozxE5r9YdwGL8w/download\n"
     ]
    }
   ],
   "source": [
    "######## set the URL and credentials ########\n",
    "\n",
    "# URL for the whole dataset:\n",
    "base_url = os.getenv(\"NEXTCLOUD_BASE\")\n",
    "# set the credentials\n",
    "username = os.getenv(\"NEXTCLOUD_USERNAME\")\n",
    "password = os.getenv(\"NEXTCLOUD_PW\")\n",
    "\n",
    "print(f\"Cloudbase: {base_url}\")\n",
    "\n",
    "######## set the storage path ########\n",
    "# Create the directory if it does not exist\n",
    "storage_path = repo_dir #base"
   ]
  },
  {
   "cell_type": "markdown",
   "id": "613c3760-80c7-4e20-a718-2ff7c4f47a4a",
   "metadata": {},
   "source": [
    "As the folder names are not requesteable, we have to define them ourselves. In the slurm pipeline this is downloading the whole folder DAS_2020.zip and then unzips it. "
   ]
  },
  {
   "cell_type": "code",
   "execution_count": 3,
   "id": "7e45c36c-2a0e-4b90-b454-5b73e76c6a1b",
   "metadata": {},
   "outputs": [],
   "source": [
    "############# Get the folder names #############\n",
    "# Define the start and end dates\n",
    "start_date = datetime(2020, 7, 4)\n",
    "end_date = datetime(2020, 8, 4)\n",
    "\n",
    "# Initialize vars\n",
    "current_date = start_date\n",
    "folder_names = []\n",
    "\n",
    "# Loop through each day from the start date to the end date\n",
    "while current_date <= end_date:\n",
    "    date_str = current_date.strftime(\"%Y%m%d\")\n",
    "    date_str_2 = date_str+\"_2\"\n",
    "    folder_names.append([date_str, date_str_2])\n",
    "\n",
    "    # Move to the next day\n",
    "    current_date += timedelta(days=1)\n",
    "\n",
    "def flatten(xss):\n",
    "    return [x for xs in xss for x in xs]\n",
    "    \n",
    "folder_names=flatten(folder_names)  "
   ]
  },
  {
   "cell_type": "markdown",
   "id": "efefe0e2-e668-49fd-8f7a-2d5a5ae0f05c",
   "metadata": {},
   "source": [
    "Define a function to download a folder and unzip it"
   ]
  },
  {
   "cell_type": "code",
   "execution_count": 4,
   "id": "ad1ef90f-4d99-4609-a7cc-a6041737654c",
   "metadata": {},
   "outputs": [],
   "source": [
    "############# download the files #############\n",
    "def request_folder(folder):\n",
    "    \n",
    "    #request the folder\n",
    "    url= f\"{base_url}?path=/&files={folder}\"\n",
    "    # url= f\"{base_url}?path=%2F{folder}#\"\n",
    "    path = os.path.join(storage_path, f\"{folder}.zip\")\n",
    "    \n",
    "    if not os.path.exists(path.split('.zip')[0]):\n",
    "        print(\"url:\", url)\n",
    "        response = requests.get(url, auth=(username, password), stream=True)\n",
    "        print(response)\n",
    "    \n",
    "        if response.status_code == 200:\n",
    "            print(\"File downloading...\")\n",
    "            \n",
    "            size = int(response.headers.get(\"Content-Length\", 0))\n",
    "            \n",
    "            progress = tqdm(response.iter_content(1024), f\"Downloading {path.split('.zip')[0]}\", total=size, unit=\"B\", unit_scale=True, unit_divisor=1024)\n",
    "            \n",
    "            with open(path, 'wb') as file:\n",
    "                for data in progress.iterable:\n",
    "                    file.write(data)\n",
    "                    progress.update(len(data))      \n",
    "                    \n",
    "            print(\"File saved successfully at\", path)  \n",
    "        else:\n",
    "            print(f\"File {path} not found. Status code:\", response.status_code)\n",
    "    else:\n",
    "        print(f\"File {path} already exists.\")"
   ]
  },
  {
   "cell_type": "markdown",
   "id": "a1cf84ff-37f2-4cc9-ae74-0963dcd4143c",
   "metadata": {},
   "source": [
    "Request the folder to the repository \n",
    "> Warning: This is around 170GB and will take some minutes!"
   ]
  },
  {
   "cell_type": "code",
   "execution_count": null,
   "id": "0c816537-49ff-4c02-b7f7-ea91680be289",
   "metadata": {},
   "outputs": [
    {
     "name": "stdout",
     "output_type": "stream",
     "text": [
      "url: https://cloud.scadsai.uni-leipzig.de/index.php/s/gozxE5r9YdwGL8w/download?path=/&files=20200704\n",
      "<Response [200]>\n",
      "File downloading...\n"
     ]
    },
    {
     "name": "stderr",
     "output_type": "stream",
     "text": [
      "Downloading /home/sc.uni-leipzig.de/ju554xqou/big-data-praktikum/20200704: 20.0GB [01:51, 195MB/s] "
     ]
    }
   ],
   "source": [
    "request_folder(folder_names[:1][0]) "
   ]
  },
  {
   "cell_type": "markdown",
   "id": "8d736125-41a9-4c7e-8193-940d94af904b",
   "metadata": {},
   "source": [
    "Unzip the folder"
   ]
  },
  {
   "cell_type": "code",
   "execution_count": 6,
   "id": "aa091435-b453-4df7-930c-7b114bb0f5a8",
   "metadata": {},
   "outputs": [
    {
     "name": "stdout",
     "output_type": "stream",
     "text": [
      "Unzipping 20200704.zip\n",
      "Archive:  20200704.zip\n",
      "Unzipping done for 20200704.zip\n"
     ]
    },
    {
     "name": "stderr",
     "output_type": "stream",
     "text": [
      "  End-of-central-directory signature not found.  Either this file is not\n",
      "  a zipfile, or it constitutes one disk of a multi-part archive.  In the\n",
      "  latter case the central directory and zipfile comment will be found on\n",
      "  the last disk(s) of this archive.\n",
      "unzip:  cannot find zipfile directory in one of 20200704.zip or\n",
      "        20200704.zip.zip, and cannot find 20200704.zip.ZIP, period.\n"
     ]
    }
   ],
   "source": [
    "# unzip the files\n",
    "def unzip_file(file):\n",
    "    os.chdir(storage_path)\n",
    "    print(\"Unzipping\", file)\n",
    "    os.system(f\"unzip {file} -d {storage_path}\")\n",
    "    print(\"Unzipping done for\", file)\n",
    "    \n",
    "unzip_file(folder_names[:1][0]+\".zip\")"
   ]
  },
  {
   "cell_type": "code",
   "execution_count": null,
   "id": "98281e11-6c22-43c0-b8d0-a7a7e2562fd0",
   "metadata": {},
   "outputs": [],
   "source": [
    "##### remove all files #####\n",
    "# for folder in folder_names:\n",
    "#     path = os.path.join(storage_path, f\"{folder}.h5\")\n",
    "#     if os.path.exists(path):\n",
    "#         os.remove(path)\n",
    "#         print(f\"File {path} removed.\")\n",
    "#     else:\n",
    "#         print(f\"File {path} does not exist.\")"
   ]
  }
 ],
 "metadata": {
  "kernelspec": {
   "display_name": "rhoneCube",
   "language": "python",
   "name": "python3"
  },
  "language_info": {
   "codemirror_mode": {
    "name": "ipython",
    "version": 3
   },
   "file_extension": ".py",
   "mimetype": "text/x-python",
   "name": "python",
   "nbconvert_exporter": "python",
   "pygments_lexer": "ipython3",
   "version": "3.9.19"
  }
 },
 "nbformat": 4,
 "nbformat_minor": 5
}
