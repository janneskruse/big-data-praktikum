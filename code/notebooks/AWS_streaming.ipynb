{
 "cells": [
  {
   "cell_type": "code",
   "execution_count": 1,
   "id": "60c662ef-80e4-408e-ad70-ce0f585b9320",
   "metadata": {},
   "outputs": [],
   "source": [
    "import xarray as xr\n",
    "import os\n",
    "import lexcube as lc"
   ]
  },
  {
   "cell_type": "code",
   "execution_count": 3,
   "id": "f2a358ed-6b8e-4af9-88af-9be5a42a6d80",
   "metadata": {},
   "outputs": [],
   "source": [
    "filepath=os.getcwd()\n",
    "url = \"https://das-test-cube.s3.eu-north-1.amazonaws.com/DAS_test.zarr/\"\n",
    "cube = xr.open_zarr(url) # one could also specify the chunks the data loaded into chunks={\"time\": 10, \"lat\": 10, \"lon\":10}"
   ]
  },
  {
   "cell_type": "code",
   "execution_count": 3,
   "id": "ba1cfbef-eb4a-405c-95f6-5fc7bc9b0709",
   "metadata": {},
   "outputs": [],
   "source": [
    "cube"
   ]
  },
  {
   "cell_type": "code",
   "execution_count": 4,
   "id": "22aafbd2-af16-4d8e-b1af-92a610557a27",
   "metadata": {},
   "outputs": [
    {
     "data": {
      "application/vnd.jupyter.widget-view+json": {
       "model_id": "dc0af43dafd446d5ad4020cac1be2916",
       "version_major": 2,
       "version_minor": 0
      },
      "text/plain": [
       "Cube3DWidget(api_metadata={'/api': {'status': 'ok', 'api_version': 5}, '/api/datasets': [{'id': 'default', 'sh…"
      ]
     },
     "execution_count": 4,
     "metadata": {},
     "output_type": "execute_result"
    }
   ],
   "source": [
    "w = lc.Cube3DWidget(cube.fft.T)\n",
    "w"
   ]
  }
 ],
 "metadata": {
  "kernelspec": {
   "display_name": "rhoneCube",
   "language": "python",
   "name": "rhonecube"
  },
  "language_info": {
   "codemirror_mode": {
    "name": "ipython",
    "version": 3
   },
   "file_extension": ".py",
   "mimetype": "text/x-python",
   "name": "python",
   "nbconvert_exporter": "python",
   "pygments_lexer": "ipython3",
   "version": "3.9.19"
  }
 },
 "nbformat": 4,
 "nbformat_minor": 5
}
