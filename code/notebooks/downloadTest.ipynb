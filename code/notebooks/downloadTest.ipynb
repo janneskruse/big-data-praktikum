{
 "cells": [
  {
   "cell_type": "code",
   "execution_count": 18,
   "id": "39227122-0a1b-4bef-8802-e2905938c47e",
   "metadata": {},
   "outputs": [],
   "source": [
    "### import libraries\n",
    "import requests\n",
    "import os\n",
    "from tqdm import tqdm\n",
    "import multiprocessing as mp\n",
    "from datetime import datetime, timedelta"
   ]
  },
  {
   "cell_type": "code",
   "execution_count": 42,
   "id": "a511a1ed-40a7-4d7d-bca7-0fb394b3f545",
   "metadata": {
    "tags": []
   },
   "outputs": [
    {
     "ename": "PermissionError",
     "evalue": "[Errno 13] Permission denied: '/work/users/ju554xqou/rhone'",
     "output_type": "error",
     "traceback": [
      "\u001b[0;31m---------------------------------------------------------------------------\u001b[0m",
      "\u001b[0;31mPermissionError\u001b[0m                           Traceback (most recent call last)",
      "Cell \u001b[0;32mIn[42], line 11\u001b[0m\n\u001b[1;32m      8\u001b[0m \u001b[38;5;66;03m######## set the storage path ########\u001b[39;00m\n\u001b[1;32m      9\u001b[0m \u001b[38;5;66;03m# Create the directory if it does not exist\u001b[39;00m\n\u001b[1;32m     10\u001b[0m storage_path \u001b[38;5;241m=\u001b[39m \u001b[38;5;124m\"\u001b[39m\u001b[38;5;124m/work/users/ju554xqou/rhone\u001b[39m\u001b[38;5;124m\"\u001b[39m\n\u001b[0;32m---> 11\u001b[0m \u001b[43mos\u001b[49m\u001b[38;5;241;43m.\u001b[39;49m\u001b[43mmakedirs\u001b[49m\u001b[43m(\u001b[49m\u001b[43mstorage_path\u001b[49m\u001b[43m,\u001b[49m\u001b[43m \u001b[49m\u001b[43mexist_ok\u001b[49m\u001b[38;5;241;43m=\u001b[39;49m\u001b[38;5;28;43;01mTrue\u001b[39;49;00m\u001b[43m)\u001b[49m\n",
      "File \u001b[0;32m~/.conda/envs/lexcube/lib/python3.12/os.py:225\u001b[0m, in \u001b[0;36mmakedirs\u001b[0;34m(name, mode, exist_ok)\u001b[0m\n\u001b[1;32m    223\u001b[0m         \u001b[38;5;28;01mreturn\u001b[39;00m\n\u001b[1;32m    224\u001b[0m \u001b[38;5;28;01mtry\u001b[39;00m:\n\u001b[0;32m--> 225\u001b[0m     \u001b[43mmkdir\u001b[49m\u001b[43m(\u001b[49m\u001b[43mname\u001b[49m\u001b[43m,\u001b[49m\u001b[43m \u001b[49m\u001b[43mmode\u001b[49m\u001b[43m)\u001b[49m\n\u001b[1;32m    226\u001b[0m \u001b[38;5;28;01mexcept\u001b[39;00m \u001b[38;5;167;01mOSError\u001b[39;00m:\n\u001b[1;32m    227\u001b[0m     \u001b[38;5;66;03m# Cannot rely on checking for EEXIST, since the operating system\u001b[39;00m\n\u001b[1;32m    228\u001b[0m     \u001b[38;5;66;03m# could give priority to other errors like EACCES or EROFS\u001b[39;00m\n\u001b[1;32m    229\u001b[0m     \u001b[38;5;28;01mif\u001b[39;00m \u001b[38;5;129;01mnot\u001b[39;00m exist_ok \u001b[38;5;129;01mor\u001b[39;00m \u001b[38;5;129;01mnot\u001b[39;00m path\u001b[38;5;241m.\u001b[39misdir(name):\n",
      "\u001b[0;31mPermissionError\u001b[0m: [Errno 13] Permission denied: '/work/users/ju554xqou/rhone'"
     ]
    }
   ],
   "source": [
    "######## set the URL and credentials ########\n",
    "# URL for the whole dataset:\n",
    "base_url = \"https://cloud.scadsai.uni-leipzig.de/index.php/s/gozxE5r9YdwGL8w/download\"\n",
    "# set the credentials\n",
    "username = \"j.kruse@studserv.uni-leipzig.de\"\n",
    "password = \"\"\n",
    "\n",
    "######## set the storage path ########\n",
    "# Create the directory if it does not exist\n",
    "storage_path = \"/work/users/ju554xqou/rhone\"\n",
    "os.makedirs(storage_path, exist_ok=True)"
   ]
  },
  {
   "cell_type": "code",
   "execution_count": 40,
   "id": "7e45c36c-2a0e-4b90-b454-5b73e76c6a1b",
   "metadata": {},
   "outputs": [],
   "source": [
    "############# get the folder names #############\n",
    "# Define the start and end dates\n",
    "start_date = datetime(2020, 7, 4)\n",
    "end_date = datetime(2020, 8, 4)\n",
    "\n",
    "# Initialize vars\n",
    "current_date = start_date\n",
    "folder_names = []\n",
    "\n",
    "# Loop through each day from the start date to the end date\n",
    "while current_date <= end_date:\n",
    "    date_str = current_date.strftime(\"%Y%m%d\")\n",
    "    date_str_2 = date_str+\"_2\"\n",
    "    folder_names.append([date_str, date_str_2])\n",
    "\n",
    "    # Move to the next day\n",
    "    current_date += timedelta(days=1)\n",
    "\n",
    "def flatten(xss):\n",
    "    return [x for xs in xss for x in xs]\n",
    "    \n",
    "folder_names=flatten(folder_names)  "
   ]
  },
  {
   "cell_type": "code",
   "execution_count": 39,
   "id": "ad1ef90f-4d99-4609-a7cc-a6041737654c",
   "metadata": {},
   "outputs": [],
   "source": [
    "############# download the files #############\n",
    "def request_folder(folder):\n",
    "    \n",
    "    #request the folder\n",
    "    url= f\"{base_url}?path=/&files={folder}\"\n",
    "    path = os.path.join(storage_path, f\"{folder}.h5\")\n",
    "    \n",
    "    if not os.path.exists(path):\n",
    "        response = requests.get(url, auth=(username, password), stream=True)\n",
    "    \n",
    "        if response.status_code == 200:\n",
    "            print(\"File downloading...\")\n",
    "            \n",
    "            size = int(response.headers.get(\"Content-Length\", 0))\n",
    "            \n",
    "            progress = tqdm(response.iter_content(1024), f\"Downloading {path}\", total=size, unit=\"B\", unit_scale=True, unit_divisor=1024)\n",
    "            \n",
    "            with open(path, 'wb') as file:\n",
    "                for data in progress.iterable:\n",
    "                    file.write(data)\n",
    "                    progress.update(len(data))      \n",
    "                    \n",
    "            print(\"File saved successfully at\", path)  \n",
    "        else:\n",
    "            print(f\"File {path} not found. Status code:\", response.status_code)\n",
    "    else:\n",
    "        print(f\"File {path} already exists.\")"
   ]
  },
  {
   "cell_type": "code",
   "execution_count": 33,
   "id": "bde87427-57b4-4e83-aee4-25824de1e922",
   "metadata": {},
   "outputs": [
    {
     "name": "stdout",
     "output_type": "stream",
     "text": [
      "File /work/le837wmue-Rhone/20200704.h5 already exists.\n"
     ]
    },
    {
     "name": "stderr",
     "output_type": "stream",
     "text": [
      "Downloading /work/le837wmue-Rhone/20200704.h5: 20.0MB [00:19, 73.4MB/s]"
     ]
    }
   ],
   "source": [
    "##### multiprocessing #####\n",
    "folder_names_sub = folder_names[:1]\n",
    "pool=mp.Pool(mp.cpu_count()-4)\n",
    "pool.map(request_folder, folder_names_sub)\n",
    "pool.close()\n",
    "pool.join()\n"
   ]
  },
  {
   "cell_type": "code",
   "execution_count": 41,
   "id": "0c816537-49ff-4c02-b7f7-ea91680be289",
   "metadata": {},
   "outputs": [
    {
     "name": "stdout",
     "output_type": "stream",
     "text": [
      "File downloading...\n"
     ]
    },
    {
     "name": "stderr",
     "output_type": "stream",
     "text": [
      "\n",
      "Downloading /work/users/ju554xqou/20200704.h5: 0.00B [00:00, ?B/s]\u001b[A"
     ]
    },
    {
     "ename": "PermissionError",
     "evalue": "[Errno 13] Permission denied: '/work/users/ju554xqou/20200704.h5'",
     "output_type": "error",
     "traceback": [
      "\u001b[0;31m---------------------------------------------------------------------------\u001b[0m",
      "\u001b[0;31mPermissionError\u001b[0m                           Traceback (most recent call last)",
      "Cell \u001b[0;32mIn[41], line 1\u001b[0m\n\u001b[0;32m----> 1\u001b[0m \u001b[43mrequest_folder\u001b[49m\u001b[43m(\u001b[49m\u001b[43mfolder_names\u001b[49m\u001b[43m[\u001b[49m\u001b[43m:\u001b[49m\u001b[38;5;241;43m1\u001b[39;49m\u001b[43m]\u001b[49m\u001b[43m[\u001b[49m\u001b[38;5;241;43m0\u001b[39;49m\u001b[43m]\u001b[49m\u001b[43m)\u001b[49m\n",
      "Cell \u001b[0;32mIn[39], line 18\u001b[0m, in \u001b[0;36mrequest_folder\u001b[0;34m(folder)\u001b[0m\n\u001b[1;32m     14\u001b[0m size \u001b[38;5;241m=\u001b[39m \u001b[38;5;28mint\u001b[39m(response\u001b[38;5;241m.\u001b[39mheaders\u001b[38;5;241m.\u001b[39mget(\u001b[38;5;124m\"\u001b[39m\u001b[38;5;124mContent-Length\u001b[39m\u001b[38;5;124m\"\u001b[39m, \u001b[38;5;241m0\u001b[39m))\n\u001b[1;32m     16\u001b[0m progress \u001b[38;5;241m=\u001b[39m tqdm(response\u001b[38;5;241m.\u001b[39miter_content(\u001b[38;5;241m1024\u001b[39m), \u001b[38;5;124mf\u001b[39m\u001b[38;5;124m\"\u001b[39m\u001b[38;5;124mDownloading \u001b[39m\u001b[38;5;132;01m{\u001b[39;00mpath\u001b[38;5;132;01m}\u001b[39;00m\u001b[38;5;124m\"\u001b[39m, total\u001b[38;5;241m=\u001b[39msize, unit\u001b[38;5;241m=\u001b[39m\u001b[38;5;124m\"\u001b[39m\u001b[38;5;124mB\u001b[39m\u001b[38;5;124m\"\u001b[39m, unit_scale\u001b[38;5;241m=\u001b[39m\u001b[38;5;28;01mTrue\u001b[39;00m, unit_divisor\u001b[38;5;241m=\u001b[39m\u001b[38;5;241m1024\u001b[39m)\n\u001b[0;32m---> 18\u001b[0m \u001b[38;5;28;01mwith\u001b[39;00m \u001b[38;5;28;43mopen\u001b[39;49m\u001b[43m(\u001b[49m\u001b[43mpath\u001b[49m\u001b[43m,\u001b[49m\u001b[43m \u001b[49m\u001b[38;5;124;43m'\u001b[39;49m\u001b[38;5;124;43mwb\u001b[39;49m\u001b[38;5;124;43m'\u001b[39;49m\u001b[43m)\u001b[49m \u001b[38;5;28;01mas\u001b[39;00m file:\n\u001b[1;32m     19\u001b[0m     \u001b[38;5;28;01mfor\u001b[39;00m data \u001b[38;5;129;01min\u001b[39;00m progress\u001b[38;5;241m.\u001b[39miterable:\n\u001b[1;32m     20\u001b[0m         file\u001b[38;5;241m.\u001b[39mwrite(data)\n",
      "File \u001b[0;32m~/.conda/envs/lexcube/lib/python3.12/site-packages/IPython/core/interactiveshell.py:324\u001b[0m, in \u001b[0;36m_modified_open\u001b[0;34m(file, *args, **kwargs)\u001b[0m\n\u001b[1;32m    317\u001b[0m \u001b[38;5;28;01mif\u001b[39;00m file \u001b[38;5;129;01min\u001b[39;00m {\u001b[38;5;241m0\u001b[39m, \u001b[38;5;241m1\u001b[39m, \u001b[38;5;241m2\u001b[39m}:\n\u001b[1;32m    318\u001b[0m     \u001b[38;5;28;01mraise\u001b[39;00m \u001b[38;5;167;01mValueError\u001b[39;00m(\n\u001b[1;32m    319\u001b[0m         \u001b[38;5;124mf\u001b[39m\u001b[38;5;124m\"\u001b[39m\u001b[38;5;124mIPython won\u001b[39m\u001b[38;5;124m'\u001b[39m\u001b[38;5;124mt let you open fd=\u001b[39m\u001b[38;5;132;01m{\u001b[39;00mfile\u001b[38;5;132;01m}\u001b[39;00m\u001b[38;5;124m by default \u001b[39m\u001b[38;5;124m\"\u001b[39m\n\u001b[1;32m    320\u001b[0m         \u001b[38;5;124m\"\u001b[39m\u001b[38;5;124mas it is likely to crash IPython. If you know what you are doing, \u001b[39m\u001b[38;5;124m\"\u001b[39m\n\u001b[1;32m    321\u001b[0m         \u001b[38;5;124m\"\u001b[39m\u001b[38;5;124myou can use builtins\u001b[39m\u001b[38;5;124m'\u001b[39m\u001b[38;5;124m open.\u001b[39m\u001b[38;5;124m\"\u001b[39m\n\u001b[1;32m    322\u001b[0m     )\n\u001b[0;32m--> 324\u001b[0m \u001b[38;5;28;01mreturn\u001b[39;00m \u001b[43mio_open\u001b[49m\u001b[43m(\u001b[49m\u001b[43mfile\u001b[49m\u001b[43m,\u001b[49m\u001b[43m \u001b[49m\u001b[38;5;241;43m*\u001b[39;49m\u001b[43margs\u001b[49m\u001b[43m,\u001b[49m\u001b[43m \u001b[49m\u001b[38;5;241;43m*\u001b[39;49m\u001b[38;5;241;43m*\u001b[39;49m\u001b[43mkwargs\u001b[49m\u001b[43m)\u001b[49m\n",
      "\u001b[0;31mPermissionError\u001b[0m: [Errno 13] Permission denied: '/work/users/ju554xqou/20200704.h5'"
     ]
    }
   ],
   "source": [
    "request_folder(folder_names[:1][0])"
   ]
  },
  {
   "cell_type": "code",
   "execution_count": 27,
   "id": "98281e11-6c22-43c0-b8d0-a7a7e2562fd0",
   "metadata": {},
   "outputs": [
    {
     "name": "stdout",
     "output_type": "stream",
     "text": [
      "File /work/le837wmue-Rhone/20200704.h5 removed.\n",
      "File /work/le837wmue-Rhone/20200704_2.h5 does not exist.\n",
      "File /work/le837wmue-Rhone/20200705.h5 does not exist.\n",
      "File /work/le837wmue-Rhone/20200705_2.h5 does not exist.\n",
      "File /work/le837wmue-Rhone/20200706.h5 does not exist.\n",
      "File /work/le837wmue-Rhone/20200706_2.h5 does not exist.\n",
      "File /work/le837wmue-Rhone/20200707.h5 does not exist.\n",
      "File /work/le837wmue-Rhone/20200707_2.h5 does not exist.\n",
      "File /work/le837wmue-Rhone/20200708.h5 does not exist.\n",
      "File /work/le837wmue-Rhone/20200708_2.h5 does not exist.\n",
      "File /work/le837wmue-Rhone/20200709.h5 does not exist.\n",
      "File /work/le837wmue-Rhone/20200709_2.h5 does not exist.\n",
      "File /work/le837wmue-Rhone/20200710.h5 does not exist.\n",
      "File /work/le837wmue-Rhone/20200710_2.h5 does not exist.\n",
      "File /work/le837wmue-Rhone/20200711.h5 does not exist.\n",
      "File /work/le837wmue-Rhone/20200711_2.h5 does not exist.\n",
      "File /work/le837wmue-Rhone/20200712.h5 does not exist.\n",
      "File /work/le837wmue-Rhone/20200712_2.h5 does not exist.\n",
      "File /work/le837wmue-Rhone/20200713.h5 does not exist.\n",
      "File /work/le837wmue-Rhone/20200713_2.h5 does not exist.\n",
      "File /work/le837wmue-Rhone/20200714.h5 does not exist.\n",
      "File /work/le837wmue-Rhone/20200714_2.h5 does not exist.\n",
      "File /work/le837wmue-Rhone/20200715.h5 does not exist.\n",
      "File /work/le837wmue-Rhone/20200715_2.h5 does not exist.\n",
      "File /work/le837wmue-Rhone/20200716.h5 does not exist.\n",
      "File /work/le837wmue-Rhone/20200716_2.h5 does not exist.\n",
      "File /work/le837wmue-Rhone/20200717.h5 does not exist.\n",
      "File /work/le837wmue-Rhone/20200717_2.h5 does not exist.\n",
      "File /work/le837wmue-Rhone/20200718.h5 does not exist.\n",
      "File /work/le837wmue-Rhone/20200718_2.h5 does not exist.\n",
      "File /work/le837wmue-Rhone/20200719.h5 does not exist.\n",
      "File /work/le837wmue-Rhone/20200719_2.h5 does not exist.\n",
      "File /work/le837wmue-Rhone/20200720.h5 does not exist.\n",
      "File /work/le837wmue-Rhone/20200720_2.h5 does not exist.\n",
      "File /work/le837wmue-Rhone/20200721.h5 does not exist.\n",
      "File /work/le837wmue-Rhone/20200721_2.h5 does not exist.\n",
      "File /work/le837wmue-Rhone/20200722.h5 does not exist.\n",
      "File /work/le837wmue-Rhone/20200722_2.h5 does not exist.\n",
      "File /work/le837wmue-Rhone/20200723.h5 does not exist.\n",
      "File /work/le837wmue-Rhone/20200723_2.h5 does not exist.\n",
      "File /work/le837wmue-Rhone/20200724.h5 does not exist.\n",
      "File /work/le837wmue-Rhone/20200724_2.h5 does not exist.\n",
      "File /work/le837wmue-Rhone/20200725.h5 does not exist.\n",
      "File /work/le837wmue-Rhone/20200725_2.h5 does not exist.\n",
      "File /work/le837wmue-Rhone/20200726.h5 does not exist.\n",
      "File /work/le837wmue-Rhone/20200726_2.h5 does not exist.\n",
      "File /work/le837wmue-Rhone/20200727.h5 does not exist.\n",
      "File /work/le837wmue-Rhone/20200727_2.h5 does not exist.\n",
      "File /work/le837wmue-Rhone/20200728.h5 does not exist.\n",
      "File /work/le837wmue-Rhone/20200728_2.h5 does not exist.\n",
      "File /work/le837wmue-Rhone/20200729.h5 does not exist.\n",
      "File /work/le837wmue-Rhone/20200729_2.h5 does not exist.\n",
      "File /work/le837wmue-Rhone/20200730.h5 does not exist.\n",
      "File /work/le837wmue-Rhone/20200730_2.h5 does not exist.\n",
      "File /work/le837wmue-Rhone/20200731.h5 does not exist.\n",
      "File /work/le837wmue-Rhone/20200731_2.h5 does not exist.\n",
      "File /work/le837wmue-Rhone/20200801.h5 does not exist.\n",
      "File /work/le837wmue-Rhone/20200801_2.h5 does not exist.\n",
      "File /work/le837wmue-Rhone/20200802.h5 does not exist.\n",
      "File /work/le837wmue-Rhone/20200802_2.h5 does not exist.\n",
      "File /work/le837wmue-Rhone/20200803.h5 does not exist.\n",
      "File /work/le837wmue-Rhone/20200803_2.h5 does not exist.\n",
      "File /work/le837wmue-Rhone/20200804.h5 does not exist.\n",
      "File /work/le837wmue-Rhone/20200804_2.h5 does not exist.\n"
     ]
    }
   ],
   "source": [
    "##### remove all files #####\n",
    "# for folder in folder_names:\n",
    "#     path = os.path.join(storage_path, f\"{folder}.h5\")\n",
    "#     if os.path.exists(path):\n",
    "#         os.remove(path)\n",
    "#         print(f\"File {path} removed.\")\n",
    "#     else:\n",
    "#         print(f\"File {path} does not exist.\")"
   ]
  }
 ],
 "metadata": {
  "kernelspec": {
   "display_name": "Lex",
   "language": "python",
   "name": "lex"
  },
  "language_info": {
   "codemirror_mode": {
    "name": "ipython",
    "version": 3
   },
   "file_extension": ".py",
   "mimetype": "text/x-python",
   "name": "python",
   "nbconvert_exporter": "python",
   "pygments_lexer": "ipython3",
   "version": "3.12.3"
  }
 },
 "nbformat": 4,
 "nbformat_minor": 5
}
