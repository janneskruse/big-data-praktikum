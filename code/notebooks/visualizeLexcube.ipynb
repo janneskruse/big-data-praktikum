{
 "cells": [
  {
   "cell_type": "markdown",
   "id": "3a915e2c-0a1a-4fdf-8028-d9e898b659cb",
   "metadata": {},
   "source": [
    "# Visualizing the newly created zarrs with Lexcube"
   ]
  },
  {
   "cell_type": "code",
   "execution_count": 1,
   "id": "604b0961-2726-4b41-882d-00608268d541",
   "metadata": {},
   "outputs": [],
   "source": [
    "import os\n",
    "import xarray as xr\n",
    "import lexcube"
   ]
  },
  {
   "cell_type": "code",
   "execution_count": 3,
   "id": "87fe8f0a-be29-459e-bc39-61bedaac5e43",
   "metadata": {},
   "outputs": [],
   "source": [
    "zarr_base=\"/work/ju554xqou-rhonezarrs\"\n",
    "os.chdir(zarr_base)\n",
    "zarrs=os.listdir()\n",
    "test=xr.open_dataset(zarrs[0], chunks={}, engine=\"zarr\")\n",
    "#test.fft.sel(time='2020-07-04T15:50:30.049000000').plot()\n",
    "test=test.fft[0:10, 0:10]\n",
    "test"
   ]
  },
  {
   "cell_type": "code",
   "execution_count": null,
   "id": "1a85db13",
   "metadata": {},
   "outputs": [],
   "source": [
    "w = lexcube.Cube3DWidget(test.fft.compute(), cmap=\"thermal\", vmin=-20, vmax=30)\n",
    "w"
   ]
  },
  {
   "cell_type": "code",
   "execution_count": null,
   "id": "0c0227a5",
   "metadata": {},
   "outputs": [],
   "source": [
    "w.show_sliders()"
   ]
  }
 ],
 "metadata": {
  "kernelspec": {
   "display_name": "rhone-EOjzaUOU-py3.9",
   "language": "python",
   "name": "python3"
  },
  "language_info": {
   "codemirror_mode": {
    "name": "ipython",
    "version": 3
   },
   "file_extension": ".py",
   "mimetype": "text/x-python",
   "name": "python",
   "nbconvert_exporter": "python",
   "pygments_lexer": "ipython3",
   "version": "3.9.7"
  }
 },
 "nbformat": 4,
 "nbformat_minor": 5
}
